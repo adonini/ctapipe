{
 "cells": [
  {
   "cell_type": "markdown",
   "metadata": {},
   "source": [
    "# Convert hexagonal cameras into square grid and back"
   ]
  },
  {
   "cell_type": "code",
   "execution_count": 1,
   "metadata": {
    "execution": {
     "iopub.execute_input": "2020-12-02T15:59:17.891193Z",
     "iopub.status.busy": "2020-12-02T15:59:17.890538Z",
     "iopub.status.idle": "2020-12-02T15:59:19.757861Z",
     "shell.execute_reply": "2020-12-02T15:59:19.756749Z"
    }
   },
   "outputs": [
    {
     "name": "stderr",
     "output_type": "stream",
     "text": [
      "/usr/local/lib/python3.8/site-packages/setuptools_scm/git.py:68: UserWarning: \"/github/workspace\" is shallow and may cause errors\n",
      "  warnings.warn('\"{}\" is shallow and may cause errors'.format(wd.path))\n"
     ]
    }
   ],
   "source": [
    "from ctapipe.utils import get_dataset_path\n",
    "from ctapipe.image.geometry_converter import convert_geometry_hex1d_to_rect2d, convert_geometry_rect2d_back_to_hexe1d\n",
    "from ctapipe.visualization import CameraDisplay\n",
    "from ctapipe.io import EventSource\n",
    "import copy\n",
    "import matplotlib.pyplot as plt"
   ]
  },
  {
   "cell_type": "markdown",
   "metadata": {},
   "source": [
    "## Setup"
   ]
  },
  {
   "cell_type": "code",
   "execution_count": 2,
   "metadata": {
    "execution": {
     "iopub.execute_input": "2020-12-02T15:59:19.763257Z",
     "iopub.status.busy": "2020-12-02T15:59:19.761931Z",
     "iopub.status.idle": "2020-12-02T15:59:19.766687Z",
     "shell.execute_reply": "2020-12-02T15:59:19.766065Z"
    }
   },
   "outputs": [],
   "source": [
    "filename = get_dataset_path('gamma_test_large.simtel.gz')"
   ]
  },
  {
   "cell_type": "code",
   "execution_count": 3,
   "metadata": {
    "execution": {
     "iopub.execute_input": "2020-12-02T15:59:19.771330Z",
     "iopub.status.busy": "2020-12-02T15:59:19.770422Z",
     "iopub.status.idle": "2020-12-02T15:59:20.729950Z",
     "shell.execute_reply": "2020-12-02T15:59:20.729351Z"
    }
   },
   "outputs": [],
   "source": [
    "source = EventSource(filename, max_events=10, allowed_tels={1})"
   ]
  },
  {
   "cell_type": "code",
   "execution_count": 4,
   "metadata": {
    "execution": {
     "iopub.execute_input": "2020-12-02T15:59:20.755707Z",
     "iopub.status.busy": "2020-12-02T15:59:20.755012Z",
     "iopub.status.idle": "2020-12-02T15:59:23.547458Z",
     "shell.execute_reply": "2020-12-02T15:59:23.546929Z"
    }
   },
   "outputs": [],
   "source": [
    "events = [copy.deepcopy(event) for event in source]"
   ]
  },
  {
   "cell_type": "code",
   "execution_count": 5,
   "metadata": {
    "execution": {
     "iopub.execute_input": "2020-12-02T15:59:23.551557Z",
     "iopub.status.busy": "2020-12-02T15:59:23.550925Z",
     "iopub.status.idle": "2020-12-02T15:59:23.554989Z",
     "shell.execute_reply": "2020-12-02T15:59:23.554437Z"
    }
   },
   "outputs": [],
   "source": [
    "event = events[0]"
   ]
  },
  {
   "cell_type": "code",
   "execution_count": 6,
   "metadata": {
    "execution": {
     "iopub.execute_input": "2020-12-02T15:59:23.799933Z",
     "iopub.status.busy": "2020-12-02T15:59:23.607457Z",
     "iopub.status.idle": "2020-12-02T15:59:24.100384Z",
     "shell.execute_reply": "2020-12-02T15:59:24.099217Z"
    }
   },
   "outputs": [
    {
     "data": {
      "text/plain": [
       "<ctapipe.visualization.mpl_camera.CameraDisplay at 0x7f7ace031070>"
      ]
     },
     "execution_count": 1,
     "metadata": {},
     "output_type": "execute_result"
    }
   ],
   "source": [
    "geometry = source.subarray.tel[1].camera.geometry\n",
    "image = event.r0.tel[1].waveform[0].sum(axis=1)\n",
    "CameraDisplay(geometry, image)"
   ]
  },
  {
   "cell_type": "markdown",
   "metadata": {},
   "source": [
    "## Conversion into square geometry"
   ]
  },
  {
   "cell_type": "markdown",
   "metadata": {},
   "source": [
    "**A key must be speficied to be able to convert back to hexagonal afterwards**   \n",
    "The conversion geometry is stored in `ctapipe.image.geometry_convert.rot_buffer`"
   ]
  },
  {
   "cell_type": "code",
   "execution_count": 7,
   "metadata": {
    "execution": {
     "iopub.execute_input": "2020-12-02T15:59:24.109934Z",
     "iopub.status.busy": "2020-12-02T15:59:24.104915Z",
     "iopub.status.idle": "2020-12-02T15:59:24.796472Z",
     "shell.execute_reply": "2020-12-02T15:59:24.795285Z"
    }
   },
   "outputs": [],
   "source": [
    "key = 0\n",
    "square_geom, square_image = convert_geometry_hex1d_to_rect2d(geometry, image, key=key)"
   ]
  },
  {
   "cell_type": "code",
   "execution_count": 8,
   "metadata": {
    "execution": {
     "iopub.execute_input": "2020-12-02T15:59:24.802445Z",
     "iopub.status.busy": "2020-12-02T15:59:24.800725Z",
     "iopub.status.idle": "2020-12-02T15:59:24.809284Z",
     "shell.execute_reply": "2020-12-02T15:59:24.810172Z"
    }
   },
   "outputs": [
    {
     "data": {
      "text/plain": [
       "<matplotlib.image.AxesImage at 0x7f7acdf7f130>"
      ]
     },
     "execution_count": 1,
     "metadata": {},
     "output_type": "execute_result"
    }
   ],
   "source": [
    "plt.imshow(square_image)"
   ]
  },
  {
   "cell_type": "markdown",
   "metadata": {},
   "source": [
    "## Conversion back to hexagonal geometry"
   ]
  },
  {
   "cell_type": "code",
   "execution_count": 9,
   "metadata": {
    "execution": {
     "iopub.execute_input": "2020-12-02T15:59:24.815558Z",
     "iopub.status.busy": "2020-12-02T15:59:24.814394Z",
     "iopub.status.idle": "2020-12-02T15:59:24.819376Z",
     "shell.execute_reply": "2020-12-02T15:59:24.818761Z"
    }
   },
   "outputs": [],
   "source": [
    "hex_geom, hex_image = convert_geometry_rect2d_back_to_hexe1d(square_geom, square_image, key=key)"
   ]
  },
  {
   "cell_type": "code",
   "execution_count": 10,
   "metadata": {
    "execution": {
     "iopub.execute_input": "2020-12-02T15:59:24.889873Z",
     "iopub.status.busy": "2020-12-02T15:59:24.823522Z",
     "iopub.status.idle": "2020-12-02T15:59:25.429813Z",
     "shell.execute_reply": "2020-12-02T15:59:25.429282Z"
    }
   },
   "outputs": [
    {
     "data": {
      "text/plain": [
       "<ctapipe.visualization.mpl_camera.CameraDisplay at 0x7f7acdd89850>"
      ]
     },
     "execution_count": 1,
     "metadata": {},
     "output_type": "execute_result"
    }
   ],
   "source": [
    "CameraDisplay(hex_geom, hex_image)"
   ]
  },
  {
   "cell_type": "markdown",
   "metadata": {},
   "source": [
    "Let's check that the images are exactly the same:"
   ]
  },
  {
   "cell_type": "code",
   "execution_count": 11,
   "metadata": {
    "execution": {
     "iopub.execute_input": "2020-12-02T15:59:25.435296Z",
     "iopub.status.busy": "2020-12-02T15:59:25.434615Z",
     "iopub.status.idle": "2020-12-02T15:59:25.439033Z",
     "shell.execute_reply": "2020-12-02T15:59:25.438463Z"
    }
   },
   "outputs": [],
   "source": [
    "assert (hex_image == image).all()"
   ]
  },
  {
   "cell_type": "code",
   "execution_count": 12,
   "metadata": {
    "execution": {
     "iopub.execute_input": "2020-12-02T15:59:25.444725Z",
     "iopub.status.busy": "2020-12-02T15:59:25.443543Z",
     "iopub.status.idle": "2020-12-02T15:59:25.447662Z",
     "shell.execute_reply": "2020-12-02T15:59:25.448187Z"
    }
   },
   "outputs": [],
   "source": [
    "assert hex_geom == geometry"
   ]
  }
 ],
 "metadata": {
  "kernelspec": {
   "display_name": "Python 3",
   "language": "python",
   "name": "python3"
  },
  "language_info": {
   "codemirror_mode": {
    "name": "ipython",
    "version": 3
   },
   "file_extension": ".py",
   "mimetype": "text/x-python",
   "name": "python",
   "nbconvert_exporter": "python",
   "pygments_lexer": "ipython3",
   "version": "3.8.2"
  }
 },
 "nbformat": 4,
 "nbformat_minor": 2
}
